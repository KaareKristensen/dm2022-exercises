{
 "cells": [
  {
   "cell_type": "markdown",
   "metadata": {},
   "source": [
    "# Week 1 - Normalization and data types\n",
    "\n",
    "This first week is going to be a warm-up week where we consider different statistical tools data types.\n",
    "\n",
    "Lets first import the libraries that we are going to need."
   ]
  },
  {
   "cell_type": "code",
   "execution_count": 10,
   "metadata": {},
   "outputs": [],
   "source": [
    "%matplotlib inline\n",
    "import matplotlib.pyplot as plt\n",
    "import numpy as np\n",
    "import scipy.stats as stats"
   ]
  },
  {
   "cell_type": "markdown",
   "metadata": {},
   "source": [
    "## Exercise 1: Sample statistics and normalization\n",
    "\n",
    "Let $X$ and $Y$ be two random variables, denoting age and weight, respectively.\n",
    "Consider a random sample of size $n=20$ from these two variables"
   ]
  },
  {
   "cell_type": "code",
   "execution_count": 11,
   "metadata": {},
   "outputs": [],
   "source": [
    "X = np.array([69, 74, 68, 70, 72, 67, 66, 70, 76, 68, 72, 79, 74, 67, 66, 71, 74, 75, 75, 76])\n",
    "Y = np.array([153, 175, 155, 135, 172, 150, 115, 137, 200, 130, 140, 265, 185, 112, 140, 150, 165, 185, 210, 220])"
   ]
  },
  {
   "cell_type": "markdown",
   "metadata": {},
   "source": [
    "**a)** Find the mean, median and mode for $X$  "
   ]
  },
  {
   "cell_type": "code",
   "execution_count": 12,
   "metadata": {},
   "outputs": [],
   "source": [
    "def compute_mean(X):\n",
    "    \"\"\"\n",
    "    Input: certain list of data   \n",
    "    Output: mean of this list   \n",
    "    Note: There also have an optional to build function prescind from Numpy\n",
    "    \"\"\"\n",
    "    # TODO: the calculation process of mean\n",
    "    mean = np.mean(X)\n",
    "    return mean\n",
    "\n",
    "def compute_median(X):\n",
    "    # TODO: the calculation process of median\n",
    "    median = np.median(X)\n",
    "    return median\n",
    "\n",
    "def compute_mode(X):\n",
    "    \"\"\" \n",
    "    Note: Could also build a counts dictionary for observing elements which may reuse when calculating pmf \n",
    "    \"\"\"\n",
    "    # TODO: the calculation process of mode  \n",
    "    mode, count = stats.mode(X)\n",
    "    return mode[0]"
   ]
  },
  {
   "cell_type": "code",
   "execution_count": 13,
   "metadata": {},
   "outputs": [
    {
     "name": "stdout",
     "output_type": "stream",
     "text": [
      "71.45\n",
      "71.5\n",
      "74\n"
     ]
    }
   ],
   "source": [
    "print(compute_mean(X))\n",
    "print(compute_median(X))\n",
    "print(compute_mode(X))"
   ]
  },
  {
   "cell_type": "markdown",
   "metadata": {},
   "source": [
    "**b)** What is the variance for $Y$?  "
   ]
  },
  {
   "cell_type": "code",
   "execution_count": 14,
   "metadata": {},
   "outputs": [],
   "source": [
    "def compute_pmf(X):\n",
    "    \"\"\"\n",
    "    Input: initial X or counts dictionary builded bufore\n",
    "    Note: Could reuse counts points \n",
    "    \"\"\"\n",
    "    # TODO: the calculation process of pmf\n",
    "    counts = np.bincount(X)\n",
    "    return counts / len(X)\n",
    "\n",
    "def compute_ev(pmf):\n",
    "    \"\"\"\n",
    "    Input: pmf of X\n",
    "    \"\"\"\n",
    "    # TODO: the calculation process of expected value\n",
    "    expected = 0\n",
    "    for i, index in enumerate(pmf):\n",
    "        expected += i * index\n",
    "    return expected\n",
    "\n",
    "def compute_variance(X, ev):  \n",
    "    \"\"\"\n",
    "    Input: pmf and  of expected value of X\n",
    "    \"\"\"\n",
    "    # TODO: the calculation process of variance\n",
    "    variance = 0\n",
    "    for i in X:\n",
    "        variance += (i-ev)**2\n",
    "    return variance / (len(X)-1)\n"
   ]
  },
  {
   "cell_type": "code",
   "execution_count": 15,
   "metadata": {},
   "outputs": [
    {
     "name": "stdout",
     "output_type": "stream",
     "text": [
      "[0.   0.   0.   0.   0.   0.   0.   0.   0.   0.   0.   0.   0.   0.\n",
      " 0.   0.   0.   0.   0.   0.   0.   0.   0.   0.   0.   0.   0.   0.\n",
      " 0.   0.   0.   0.   0.   0.   0.   0.   0.   0.   0.   0.   0.   0.\n",
      " 0.   0.   0.   0.   0.   0.   0.   0.   0.   0.   0.   0.   0.   0.\n",
      " 0.   0.   0.   0.   0.   0.   0.   0.   0.   0.   0.1  0.1  0.1  0.05\n",
      " 0.1  0.05 0.1  0.   0.15 0.1  0.1  0.   0.   0.05]\n",
      "71.45\n",
      "14.57631578947369\n"
     ]
    }
   ],
   "source": [
    "# TODO\n",
    "pmf = compute_pmf(X)\n",
    "print(pmf)\n",
    "eX = compute_ev(pmf)\n",
    "print(eX)\n",
    "print(compute_variance(X,eX))"
   ]
  },
  {
   "cell_type": "markdown",
   "metadata": {},
   "source": [
    "**c)** Plot the normal distribution for $X$. Consider if the data seems to fit a normal distribution.  "
   ]
  },
  {
   "cell_type": "code",
   "execution_count": 16,
   "metadata": {},
   "outputs": [
    {
     "data": {
      "image/png": "[encoded data removed]",
      "text/plain": [
       "<Figure size 432x288 with 1 Axes>"
      ]
     },
     "metadata": {
      "needs_background": "light"
     },
     "output_type": "display_data"
    },
    {
     "data": {
      "image/png": "[encoded data removed]",
      "text/plain": [
       "<Figure size 432x288 with 1 Axes>"
      ]
     },
     "metadata": {
      "needs_background": "light"
     },
     "output_type": "display_data"
    }
   ],
   "source": [
    "# TODO\n",
    "fig, ax = plt.subplots()\n",
    "ax.scatter(range(len(pmf)), pmf)\n",
    "\n",
    "plt.show()\n",
    "\n",
    "ev_x = compute_ev(pmf)\n",
    "var_x = compute_variance(pmf, ev_x)\n",
    "sigma_x = np.sqrt(var_x)\n",
    "x = np.linspace(ev_x - 3*sigma_x, ev_x + 3*sigma_x, 100)\n",
    "plt.plot(x, stats.norm.pdf(x, ev_x, sigma_x))\n",
    "plt.show()"
   ]
  },
  {
   "cell_type": "markdown",
   "metadata": {},
   "source": [
    "**d)** What is the probability of observing an age of 80 or higher?  "
   ]
  },
  {
   "cell_type": "markdown",
   "metadata": {},
   "source": [
    "Can easily be seen from the data to be 0"
   ]
  },
  {
   "cell_type": "code",
   "execution_count": 24,
   "metadata": {},
   "outputs": [
    {
     "name": "stdout",
     "output_type": "stream",
     "text": [
      "Probability of observing 80 or higher is 0.0\n"
     ]
    }
   ],
   "source": [
    "# TODO\n",
    "def compute_CDF(y, pmf):\n",
    "    probability_under_or_equal_y = 0\n",
    "    for point, prop in enumerate(pmf):\n",
    "        if(point <= y):\n",
    "            probability_under_or_equal_y += prop\n",
    "    return probability_under_or_equal_y\n",
    "\n",
    "\n",
    "print(\"Probability of observing 80 or higher is\", 1-compute_CDF(80, pmf))"
   ]
  },
  {
   "cell_type": "markdown",
   "metadata": {},
   "source": [
    "**e)** Find the 2-dimensional mean $\\hat \\mu$ and the covariance matrix $\\widehat \\Sigma$ for these two variables.  "
   ]
  },
  {
   "cell_type": "code",
   "execution_count": 26,
   "metadata": {},
   "outputs": [
    {
     "name": "stdout",
     "output_type": "stream",
     "text": [
      "[ 71.45 164.7 ]\n",
      "[[  14.57631579  128.87894737]\n",
      " [ 128.87894737 1441.27368421]]\n",
      "[[  14.57631579  128.87894737]\n",
      " [ 128.87894737 1441.27368421]]\n"
     ]
    }
   ],
   "source": [
    "# TODO\n",
    "values = np.array([X,Y]).transpose()\n",
    "means = np.array([compute_mean(X), compute_mean(Y)])\n",
    "print(means)\n",
    "\n",
    "adjusted_for_mean = np.subtract(values, means)\n",
    "\n",
    "covariance_matrix = adjusted_for_mean.T @ adjusted_for_mean\n",
    "print(covariance_matrix / (len(X)-1))\n",
    "print(np.cov(X,Y))"
   ]
  },
  {
   "cell_type": "markdown",
   "metadata": {},
   "source": [
    "**f)** Normalize the data with _range normalization_ to the range $[0, 1]$  "
   ]
  },
  {
   "cell_type": "code",
   "execution_count": 19,
   "metadata": {},
   "outputs": [
    {
     "name": "stdout",
     "output_type": "stream",
     "text": [
      "[0.23076923 0.61538462 0.15384615 0.30769231 0.46153846 0.07692308\n",
      " 0.         0.30769231 0.76923077 0.15384615 0.46153846 1.\n",
      " 0.61538462 0.07692308 0.         0.38461538 0.61538462 0.69230769\n",
      " 0.69230769 0.76923077]\n"
     ]
    }
   ],
   "source": [
    "# TODO\n",
    "print((X-np.min(X))/(np.max(X)-np.min(X)))"
   ]
  },
  {
   "cell_type": "markdown",
   "metadata": {},
   "source": [
    "**g)** Normalize the data with _standard score normalization_, such that is has mean 0 and standard deviation 1.  "
   ]
  },
  {
   "cell_type": "code",
   "execution_count": 27,
   "metadata": {},
   "outputs": [
    {
     "name": "stdout",
     "output_type": "stream",
     "text": [
      "[-0.65838571  0.6852586  -0.92711457 -0.38965685  0.14780087 -1.19584344\n",
      " -1.4645723  -0.38965685  1.22271632 -0.92711457  0.14780087  2.02890291\n",
      "  0.6852586  -1.19584344 -1.4645723  -0.12092799  0.6852586   0.95398746\n",
      "  0.95398746  1.22271632]\n"
     ]
    }
   ],
   "source": [
    "# TODO\n",
    "print((X-np.mean(X))/(np.sqrt(np.var(X))))"
   ]
  },
  {
   "cell_type": "markdown",
   "metadata": {},
   "source": [
    "## Exercise 2: Robustness\n",
    "Determine whether the following statements are true or false and explain why.\n",
    " - Mean is robust against outliers\n",
    " - Median is robust against outliers\n",
    " - Standard deviation is robust against outliers\n",
    "\n",
    " - FALSE\n",
    " - TRUE\n",
    " - FALSE"
   ]
  },
  {
   "cell_type": "markdown",
   "metadata": {},
   "source": [
    "## Exercise 3: More on robustness\n",
    "Provide an informal definition of when a measure is robust. "
   ]
  },
  {
   "cell_type": "markdown",
   "metadata": {},
   "source": [
    "We say that a statistic is robust if it is not affected by extreme values (such\n",
    "as outliers) in the data."
   ]
  },
  {
   "cell_type": "markdown",
   "metadata": {},
   "source": [
    "## Exercise 4: Independence analysis\n",
    "Please explain what the idea of independence analysis is using contingency tables; for which kind of data is this particularly relevant? "
   ]
  },
  {
   "cell_type": "markdown",
   "metadata": {},
   "source": [
    "You test whether two variables are independent using a hypothesis test (Xi-squared)\n",
    "\n",
    "They are independent if the following hold for their pmf\n",
    "p_12 = p_1 * p_2\n",
    "\n",
    "See p. 78 data-mining-and-machine-learning"
   ]
  },
  {
   "cell_type": "markdown",
   "metadata": {},
   "source": [
    "## Exercise 5: Contingency table and $\\chi^2$ statistics\n",
    "In the table below,  assuming that $X_1$ is discretized into three bins, as follows: $[-2, -0.5]$, $[-0.5, 0.5]$, and $[0.5, 2]$.\n",
    "\n",
    "![Table 3.5](graphics/3.5.png)\n",
    "\n",
    "Answer the following questions\n",
    "\n",
    "**a)** Construct the contingency table between the discretized $X_1$ and $X_2$ attributes . Include the marginal counts.  \n",
    "**b)** Compute the $\\chi^2$ statistic between them.  \n",
    "**c)** Determine whether they are dependent or not at the 5% significance level. Use the $\\chi^2$ critical values from Table 3.10.\n",
    "\n",
    "![Table 3.11](graphics/3.11.png)"
   ]
  },
  {
   "cell_type": "code",
   "execution_count": 21,
   "metadata": {},
   "outputs": [
    {
     "ename": "TypeError",
     "evalue": "chi2_contingency() missing 1 required positional argument: 'observed'",
     "output_type": "error",
     "traceback": [
      "\u001b[1;31m---------------------------------------------------------------------------\u001b[0m",
      "\u001b[1;31mTypeError\u001b[0m                                 Traceback (most recent call last)",
      "\u001b[1;32m~\\AppData\\Local\\Temp/ipykernel_22884/3800168630.py\u001b[0m in \u001b[0;36m<module>\u001b[1;34m\u001b[0m\n\u001b[1;32m----> 1\u001b[1;33m \u001b[0mstats\u001b[0m\u001b[1;33m.\u001b[0m\u001b[0mchi2_contingency\u001b[0m\u001b[1;33m(\u001b[0m\u001b[1;33m)\u001b[0m\u001b[1;33m\u001b[0m\u001b[1;33m\u001b[0m\u001b[0m\n\u001b[0m\u001b[0;32m      2\u001b[0m \u001b[1;31m#https://docs.scipy.org/doc/scipy/reference/generated/scipy.stats.chi2_contingency.html\u001b[0m\u001b[1;33m\u001b[0m\u001b[1;33m\u001b[0m\u001b[0m\n",
      "\u001b[1;31mTypeError\u001b[0m: chi2_contingency() missing 1 required positional argument: 'observed'"
     ]
    }
   ],
   "source": [
    "stats.chi2_contingency()\n",
    "#https://docs.scipy.org/doc/scipy/reference/generated/scipy.stats.chi2_contingency.html"
   ]
  },
  {
   "cell_type": "markdown",
   "metadata": {},
   "source": [
    "## Exercise 6: Working with Metrics\n",
    "\n",
    "Consider the following situation: \n",
    "\n",
    "We know some distances between data points: $d(p_1,p_2)=1$, $d(p_1,p_3)=2$, $d(p_3, p_4)=1$. \n",
    "We also know that $d$ is a metric. \n",
    "\n",
    "1. What do we know about the remaining distances? \n",
    "2. Do we need to compute further distances if we want to find the two points that are most similar to $p_1$? \n",
    "3. Can $p_4$ be closer to $p_2$ than $p_3$ is to $p_2$? "
   ]
  },
  {
   "cell_type": "markdown",
   "metadata": {},
   "source": [
    "1. we can use triangle equality\n",
    "2. Yes, we need to compute for example $d(p_1,p_4)$ since we can't use triangle inequality directly before.\n",
    "3. Yes, $d(p_2,p_4)\\in[1,3]$ and $d(p_2,p_4)\\in[0,4]$"
   ]
  },
  {
   "cell_type": "markdown",
   "metadata": {},
   "source": [
    "# Optional Exercises\n",
    "\n",
    "## Exercise 7: Mean absolute deviation \n",
    "Define a measure of deviation called _mean absolute deviation_ for a random variable $X$ as follows:\n",
    "\n",
    "$$\n",
    "\\frac{1}{n} \\sum_{i=1}^n |x_i - \\mu|\n",
    "$$\n",
    "\n",
    "Is this measure robust? Why or why not?"
   ]
  },
  {
   "cell_type": "markdown",
   "metadata": {},
   "source": [
    "If there is an outlier it will have a larger effect on x_i than on the mean, therefore it is not robust."
   ]
  },
  {
   "cell_type": "markdown",
   "metadata": {},
   "source": [
    "## Exercise 8: Correlation\n",
    "\n",
    "Consider the table below. Assume that both the attributes $X$ and $Y$ are numeric, and the\n",
    "table represents the entire population. And we know that the correlation between $X$\n",
    "and $Y$ is zero.\n",
    "1. What can you infer about the values of $Y$? (Find a relationship between $a$, $b$ and $c$)\n",
    "2. If we know there is a missing row, what can we infer about it?\n",
    "\n",
    "|$X$ | $Y$ |\n",
    "|:---:|:---:|\n",
    "|$1$|$a$|\n",
    "|$0$|$b$|\n",
    "|$1$|$c$|\n",
    "|$0$|$a$|\n",
    "|$0$|$c$|\n"
   ]
  },
  {
   "cell_type": "markdown",
   "metadata": {},
   "source": []
  },
  {
   "cell_type": "markdown",
   "metadata": {},
   "source": [
    "# Exercise 9: 3-way contingency table\n",
    "\n",
    "Consider the 3-way contingency table for attributes $X$,$Y$,$Z$ shown in the table below.\n",
    "Compute the $\\chi^2$ metric for the correlation between $Y$ and $Z$. Are they dependent\n",
    "or independent at the 95% confidence level? See Table 3.10 above for $\\chi^2$ values.\n",
    "\n",
    "![Table 3.9](graphics/3.9.png)"
   ]
  },
  {
   "cell_type": "code",
   "execution_count": null,
   "metadata": {},
   "outputs": [
    {
     "data": {
      "text/plain": [
       "(0.6515384615384604,\n",
       " 0.4195631759021463,\n",
       " 1,\n",
       " array([[37.14285714, 27.85714286],\n",
       "        [42.85714286, 32.14285714]]))"
      ]
     },
     "execution_count": 86,
     "metadata": {},
     "output_type": "execute_result"
    }
   ],
   "source": [
    "xy = np.array([[40,25],[40,35]])\n",
    "scipy.stats.chi2_contingency(xy)"
   ]
  },
  {
   "cell_type": "markdown",
   "metadata": {},
   "source": [
    "# Exercise 10: Mixed data\n",
    "\n",
    "Consider the \"mixed\" data given in the table below. Here $X_1$ is a numeric attribute and\n",
    "$X_2$ is a categorical one. Assume that the domain of $X_2$ is given as $dom(X_2) = \\{a, b\\}$.\n",
    "Answer the following questions.\n",
    "**a)** What is the mean vector for this dataset?  \n",
    "**b)** What is the covariance matrix?  \n",
    "\n",
    "![Table 3.5](graphics/3.5.png)\n",
    "\n"
   ]
  },
  {
   "cell_type": "code",
   "execution_count": null,
   "metadata": {},
   "outputs": [
    {
     "name": "stdout",
     "output_type": "stream",
     "text": [
      "0.2\n",
      "[[1.02337778 0.1       ]\n",
      " [0.1        0.26666667]]\n"
     ]
    }
   ],
   "source": [
    "X = np.array([[0.3, 0],[-0.3,1],[0.44,0],[-0.6,0],[0.4,0],[1.2,1],[-0.12,0],[-1.6,1],[1.6,1],[-1.32,0]])\n",
    "print(np.mean(X))\n",
    "print(np.cov(X.T))"
   ]
  }
 ],
 "metadata": {
  "interpreter": {
   "hash": "0bddfeb57c1fb75223dbf39449e882687a67de532191dbbd9d55c4d4d1df7aac"
  },
  "kernelspec": {
   "display_name": "Python 3.9.7 64-bit ('ml': conda)",
   "name": "python3"
  },
  "language_info": {
   "codemirror_mode": {
    "name": "ipython",
    "version": 3
   },
   "file_extension": ".py",
   "mimetype": "text/x-python",
   "name": "python",
   "nbconvert_exporter": "python",
   "pygments_lexer": "ipython3",
   "version": "3.9.7"
  }
 },
 "nbformat": 4,
 "nbformat_minor": 4
}
